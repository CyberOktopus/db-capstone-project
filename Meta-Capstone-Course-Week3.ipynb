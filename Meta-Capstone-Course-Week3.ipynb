{
 "cells": [
  {
   "cell_type": "code",
   "execution_count": null,
   "id": "87b61278",
   "metadata": {},
   "outputs": [],
   "source": [
    "!pip install mysql-connector-python"
   ]
  },
  {
   "cell_type": "code",
   "execution_count": 50,
   "id": "0eddeba4",
   "metadata": {},
   "outputs": [],
   "source": [
    "import mysql.connector as connector"
   ]
  },
  {
   "cell_type": "code",
   "execution_count": 58,
   "id": "43698b13",
   "metadata": {},
   "outputs": [],
   "source": [
    "from mysql.connector import errorcode"
   ]
  },
  {
   "cell_type": "code",
   "execution_count": 67,
   "id": "43219971",
   "metadata": {},
   "outputs": [],
   "source": [
    "connection = connector.connect(user=\"admin1\", password = \"6666\", host=\"127.0.0.1\",database = \"littlelemondb\")"
   ]
  },
  {
   "cell_type": "code",
   "execution_count": 68,
   "id": "6f914adc",
   "metadata": {},
   "outputs": [],
   "source": [
    "cursor = connection.cursor()"
   ]
  },
  {
   "cell_type": "code",
   "execution_count": 70,
   "id": "a0915ee8",
   "metadata": {},
   "outputs": [],
   "source": [
    "cursor.execute(\"\"\"SHOW tables\"\"\")"
   ]
  },
  {
   "cell_type": "code",
   "execution_count": 75,
   "id": "68be9782",
   "metadata": {},
   "outputs": [
    {
     "name": "stdout",
     "output_type": "stream",
     "text": [
      "True\n"
     ]
    }
   ],
   "source": [
    "print(connection.is_connected())"
   ]
  },
  {
   "cell_type": "code",
   "execution_count": 73,
   "id": "c84823e4",
   "metadata": {},
   "outputs": [],
   "source": [
    "results = cursor.fetchall()"
   ]
  },
  {
   "cell_type": "code",
   "execution_count": 74,
   "id": "0f201c65",
   "metadata": {},
   "outputs": [
    {
     "name": "stdout",
     "output_type": "stream",
     "text": [
      "[('bookings',), ('customers',), ('deliverystatus',), ('menu',), ('menuitems',), ('orders',), ('orderview',), ('staff',)]\n"
     ]
    }
   ],
   "source": [
    "print(results)"
   ]
  },
  {
   "cell_type": "code",
   "execution_count": 76,
   "id": "67319a3a",
   "metadata": {},
   "outputs": [],
   "source": [
    "query_customer_filter=\"\"\"\n",
    "SELECT customers.CustomerName AS Name, customers.ContactDetail AS ContactInfo, orders.TotalCost AS BillAmount\n",
    "FROM orders\n",
    "INNER JOIN customers\n",
    "ON customers.CustomerID = orders.CustomerID\n",
    "WHERE orders.TotalCost > 60;\n",
    "\"\"\""
   ]
  },
  {
   "cell_type": "code",
   "execution_count": 77,
   "id": "4abf5b61",
   "metadata": {},
   "outputs": [],
   "source": [
    "cursor.execute(query_customer_filter)"
   ]
  },
  {
   "cell_type": "code",
   "execution_count": 78,
   "id": "c745d296",
   "metadata": {},
   "outputs": [],
   "source": [
    "results = cursor.fetchall()"
   ]
  },
  {
   "cell_type": "code",
   "execution_count": 82,
   "id": "f17e0440",
   "metadata": {},
   "outputs": [],
   "source": [
    "colunmns = cursor.column_names"
   ]
  },
  {
   "cell_type": "code",
   "execution_count": 80,
   "id": "89eb39d7",
   "metadata": {},
   "outputs": [
    {
     "name": "stdout",
     "output_type": "stream",
     "text": [
      "The customers who spent more than 60$: \n"
     ]
    }
   ],
   "source": [
    "print(\"The customers who spent more than 60$: \")"
   ]
  },
  {
   "cell_type": "code",
   "execution_count": 85,
   "id": "4660c4b1",
   "metadata": {},
   "outputs": [
    {
     "name": "stdout",
     "output_type": "stream",
     "text": [
      "('Name', 'ContactInfo', 'BillAmount')\n"
     ]
    }
   ],
   "source": [
    "print(colunmns)"
   ]
  },
  {
   "cell_type": "code",
   "execution_count": 86,
   "id": "0b75198d",
   "metadata": {},
   "outputs": [
    {
     "name": "stdout",
     "output_type": "stream",
     "text": [
      "('Jadon Sancho', '111', Decimal('950'))\n",
      "('De Gea', '222', Decimal('450'))\n",
      "('Bruno Fernandes', '333', Decimal('150'))\n",
      "('Marcus Rashford', '444', Decimal('750'))\n",
      "('Carlos Casimiro', '555', Decimal('150'))\n",
      "('Luke Shaw', '666', Decimal('650'))\n",
      "('Lisandro Martínez', '777', Decimal('100'))\n",
      "('Raphael Varane', '888', Decimal('350'))\n"
     ]
    }
   ],
   "source": [
    "for result in results:\n",
    "    print(result)"
   ]
  },
  {
   "cell_type": "code",
   "execution_count": null,
   "id": "7d815bff",
   "metadata": {},
   "outputs": [],
   "source": []
  }
 ],
 "metadata": {
  "kernelspec": {
   "display_name": "Python 3 (ipykernel)",
   "language": "python",
   "name": "python3"
  },
  "language_info": {
   "codemirror_mode": {
    "name": "ipython",
    "version": 3
   },
   "file_extension": ".py",
   "mimetype": "text/x-python",
   "name": "python",
   "nbconvert_exporter": "python",
   "pygments_lexer": "ipython3",
   "version": "3.11.1"
  }
 },
 "nbformat": 4,
 "nbformat_minor": 5
}
